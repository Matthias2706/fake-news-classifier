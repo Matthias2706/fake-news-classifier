{
 "cells": [
  {
   "cell_type": "code",
   "execution_count": 30,
   "id": "169c772a-f3b0-456e-a4ef-cd453044230d",
   "metadata": {},
   "outputs": [],
   "source": [
    "from datasets import load_dataset, DatasetDict\n",
    "from transformers import AutoTokenizer\n",
    "\n",
    "import torch\n",
    "from torch.utils.data import DataLoader"
   ]
  },
  {
   "cell_type": "code",
   "execution_count": 146,
   "id": "665c84ac-4f6e-482a-8aca-07ddbfbe89c2",
   "metadata": {},
   "outputs": [
    {
     "name": "stdout",
     "output_type": "stream",
     "text": [
      "{'text': Value('string'), 'label': Value('int64')}\n"
     ]
    }
   ],
   "source": [
    "# Loads dataset and splits to train, test & validation\n",
    "ds = load_dataset(\"mrm8488/fake-news\")\n",
    "\n",
    "print(ds[\"train\"].features)\n",
    "\n",
    "# Get test and train data\n",
    "ds_tmp0 = ds[\"train\"].train_test_split(test_size=0.2, seed=42)\n",
    "\n",
    "# Get validation data\n",
    "ds_tmp1 = ds[\"train\"].train_test_split(test_size=0.1, seed=42)\n",
    "\n",
    "dsd = DatasetDict({\n",
    "    \"train\": ds_tmp1[\"train\"],\n",
    "    \"validation\": ds_tmp1[\"test\"],\n",
    "    \"test\": ds_tmp0[\"test\"]\n",
    "})"
   ]
  },
  {
   "cell_type": "code",
   "execution_count": 161,
   "id": "c9a2b243-0908-483b-9f84-dac90d7ba384",
   "metadata": {},
   "outputs": [],
   "source": [
    "tok = AutoTokenizer.from_pretrained(\"distilbert-base-uncased\")\n",
    "vocab_size = tok.vocab_size\n",
    "num_class = 2\n",
    "emsize=64"
   ]
  },
  {
   "cell_type": "code",
   "execution_count": 148,
   "id": "39b8d74b-c1ef-447e-a615-0b092544acdd",
   "metadata": {},
   "outputs": [],
   "source": [
    "#print(\"Tokens:\", tokens)\n",
    "#print(\"IDs:\", ids)\n",
    "#print(\"Zurück:\", back)\n",
    "#print(\"Decoded:\", decoded)"
   ]
  },
  {
   "cell_type": "code",
   "execution_count": 149,
   "id": "b00c5cbc-d3c8-4ed2-8b70-ad330e81f928",
   "metadata": {},
   "outputs": [
    {
     "name": "stdout",
     "output_type": "stream",
     "text": [
      "40408\n",
      "8980\n",
      "4490\n",
      "44898\n"
     ]
    }
   ],
   "source": [
    "#len_trainSet = len(dsd[\"train\"])\n",
    "#len_testSet = len(dsd[\"test\"])\n",
    "#len_validSet = len(dsd[\"validation\"])\n",
    "#len_all = len(ds[\"train\"])\n",
    "\n",
    "#print(len_trainSet)\n",
    "#print(len_testSet)\n",
    "#print(len_validSet)\n",
    "#print(len_all)"
   ]
  },
  {
   "cell_type": "code",
   "execution_count": 150,
   "id": "a8e968d7-7055-432c-922e-49f6be3d60a5",
   "metadata": {},
   "outputs": [],
   "source": [
    "device = torch.device(\"cuda\" if torch.cuda.is_available() else \"cpu\")"
   ]
  },
  {
   "cell_type": "code",
   "execution_count": 151,
   "id": "4bfccf4f-29d9-43ce-8f74-34dca26b40d8",
   "metadata": {},
   "outputs": [],
   "source": [
    "def text_pipeline(texts):\n",
    "    ids_masks = tok(\n",
    "        texts,\n",
    "        truncation=True,\n",
    "        max_length=512,\n",
    "        padding=True,\n",
    "    )\n",
    "    return ids_masks[\"input_ids\"]"
   ]
  },
  {
   "cell_type": "code",
   "execution_count": 152,
   "id": "1ea165ac-2628-4a61-9307-dec1ce445b5c",
   "metadata": {},
   "outputs": [],
   "source": [
    "def label_pipeline(x):\n",
    "    return x"
   ]
  },
  {
   "cell_type": "code",
   "execution_count": 153,
   "id": "5e27516b-dd1f-4876-a441-47c91fb61d13",
   "metadata": {},
   "outputs": [],
   "source": [
    "def collate_batch(batch):\n",
    "\n",
    "    label_list, text_list, offsets = [], [], [0]\n",
    "    \n",
    "    for item in batch:\n",
    "        label, text = item[\"label\"], item[\"text\"]\n",
    "\n",
    "        # Set label\n",
    "        label_list.append(label_pipeline(label))\n",
    "\n",
    "        # Set tokens for text\n",
    "        processed_text = torch.tensor(text_pipeline(text), dtype=torch.int64)\n",
    "        text_list.append(processed_text)\n",
    "\n",
    "        # Set offset form text\n",
    "        offsets.append(processed_text.size(0))\n",
    "        \n",
    "    # Merge single batches to one\n",
    "\n",
    "    label_list = torch.tensor(label_list, dtype=torch.int64)\n",
    "    text_list = torch.cat(text_list)\n",
    "    offsets = torch.tensor(offsets[:-1]).cumsum(dim=0)\n",
    "    \n",
    "    return label_list, text_list, offsets\n",
    "        "
   ]
  },
  {
   "cell_type": "code",
   "execution_count": 154,
   "id": "5e810069-2ec9-4022-90e6-9e076f0b5a51",
   "metadata": {},
   "outputs": [],
   "source": [
    "BATCH_SIZE = 64\n",
    "\n",
    "train_dataloader = DataLoader(dsd[\"train\"], batch_size=BATCH_SIZE, shuffle=True, collate_fn=collate_batch)\n",
    "test_dataloader = DataLoader(dsd[\"test\"], batch_size=BATCH_SIZE, shuffle=True, collate_fn=collate_batch)\n",
    "validation_dataloader = DataLoader(dsd[\"validation\"], batch_size=BATCH_SIZE, shuffle=True, collate_fn=collate_batch)\n"
   ]
  },
  {
   "cell_type": "code",
   "execution_count": 164,
   "id": "27602dc0-04a8-4fc6-aa29-e417721ad3fa",
   "metadata": {},
   "outputs": [
    {
     "data": {
      "text/plain": [
       "(tensor([1, 1, 1, 0, 1, 1, 1, 0, 0, 0, 1, 1, 0, 1, 0, 1, 0, 0, 0, 0, 0, 0, 0, 1,\n",
       "         1, 0, 1, 0, 0, 1, 0, 0, 0, 1, 1, 0, 1, 0, 0, 1, 1, 1, 1, 1, 0, 0, 0, 1,\n",
       "         1, 0, 1, 0, 0, 0, 1, 1, 1, 0, 1, 1, 1, 1, 1, 0]),\n",
       " tensor([ 101, 2144, 1996,  ..., 2015, 1012,  102]),\n",
       " tensor([    0,   341,   353,   792,  1304,  1538,  1935,  2447,  2855,  3306,\n",
       "          3690,  4202,  4714,  5226,  5583,  6095,  6607,  7119,  7631,  7734,\n",
       "          8177,  8689,  8786,  9117,  9623, 10135, 10647, 11024, 11080, 11467,\n",
       "         11852, 12364, 12876, 13349, 13351, 13714, 14119, 14631, 14766, 15278,\n",
       "         15617, 15641, 15800, 16312, 16824, 16858, 17370, 17493, 17644, 17908,\n",
       "         18420, 18773, 19285, 19797, 20160, 20454, 20597, 20964, 21347, 21496,\n",
       "         22008, 22400, 22912, 23332]))"
      ]
     },
     "execution_count": 164,
     "metadata": {},
     "output_type": "execute_result"
    }
   ],
   "source": [
    "label, text, offsets = next(iter(train_dataloader))\n",
    "label, text, offsets"
   ]
  },
  {
   "cell_type": "code",
   "execution_count": 162,
   "id": "1cdce847-807b-4b6c-a246-61c6d9ba1081",
   "metadata": {},
   "outputs": [],
   "source": [
    "from torch import nn\n",
    "\n",
    "class TextClassificationModel(nn.Module):\n",
    "    def __init__(self, vocab_size, embed_dim, num_class):\n",
    "        super(TextClassificationModel, self).__init__()\n",
    "        self.embedding = nn.EmbeddingBag(vocab_size, embed_dim, sparse=False)\n",
    "        self.fc = nn.Linear(embed_dim, num_class)\n",
    "        self.init_weights()\n",
    "\n",
    "    def init_weights(self):\n",
    "        initrange = 0.5\n",
    "        self.embedding.weight.data.uniform_(-initrange, initrange)\n",
    "        self.fc.weight.data.uniform_(-initrange, initrange)\n",
    "        self.fc.bias.data.zero_()\n",
    "\n",
    "    def forward(self, text, offsets):\n",
    "        embedded = self.embedding(text, offsets)\n",
    "        return self.fc(embedded)"
   ]
  },
  {
   "cell_type": "code",
   "execution_count": 163,
   "id": "ad2f0fbc-1c09-4fce-89e3-2de86586124f",
   "metadata": {},
   "outputs": [
    {
     "data": {
      "text/plain": [
       "TextClassificationModel(\n",
       "  (embedding): EmbeddingBag(30522, 64, mode='mean')\n",
       "  (fc): Linear(in_features=64, out_features=2, bias=True)\n",
       ")"
      ]
     },
     "execution_count": 163,
     "metadata": {},
     "output_type": "execute_result"
    }
   ],
   "source": [
    "model = TextClassificationModel(vocab_size, emsize, num_class).to(device)\n",
    "model"
   ]
  },
  {
   "cell_type": "code",
   "execution_count": 165,
   "id": "fbf34100-75a0-4e0b-afbe-c7417997fa14",
   "metadata": {},
   "outputs": [],
   "source": [
    "predicted_label=model(text, offsets)"
   ]
  },
  {
   "cell_type": "code",
   "execution_count": 166,
   "id": "6e8ab3a7-dc62-4a6d-8520-de14bf0da86e",
   "metadata": {},
   "outputs": [
    {
     "data": {
      "text/plain": [
       "torch.Size([64, 2])"
      ]
     },
     "execution_count": 166,
     "metadata": {},
     "output_type": "execute_result"
    }
   ],
   "source": [
    "predicted_label.shape"
   ]
  },
  {
   "cell_type": "code",
   "execution_count": 167,
   "id": "953819a2-0fd2-46f8-b7e4-3efd3f58fc89",
   "metadata": {},
   "outputs": [
    {
     "data": {
      "text/plain": [
       "tensor([ 0.1216, -0.0561], grad_fn=<SelectBackward0>)"
      ]
     },
     "execution_count": 167,
     "metadata": {},
     "output_type": "execute_result"
    }
   ],
   "source": [
    "predicted_label[0]"
   ]
  },
  {
   "cell_type": "code",
   "execution_count": 198,
   "id": "5cdb661f-9902-4705-b21f-53da8db84391",
   "metadata": {},
   "outputs": [],
   "source": [
    "def predict(text, text_pipeline):\n",
    "    with torch.no_grad():\n",
    "        text = torch.tensor(text_pipeline(text))\n",
    "        output = model(text, torch.tensor([0]))   \n",
    "        label = output.argmax(1).item()\n",
    "        \n",
    "        if(label == 1):\n",
    "            return \"Correct!\"\n",
    "        else:\n",
    "            return \"Fake news!\""
   ]
  },
  {
   "cell_type": "code",
   "execution_count": 200,
   "id": "c09ae893-2d47-453c-bbf4-75e79d18236d",
   "metadata": {},
   "outputs": [
    {
     "data": {
      "text/plain": [
       "'Fake news!'"
      ]
     },
     "execution_count": 200,
     "metadata": {},
     "output_type": "execute_result"
    }
   ],
   "source": [
    "predict(\"This a real news\", text_pipeline)"
   ]
  },
  {
   "cell_type": "code",
   "execution_count": null,
   "id": "22e914a0-62db-4d69-94d2-11a73eb7bc34",
   "metadata": {},
   "outputs": [],
   "source": []
  }
 ],
 "metadata": {
  "kernelspec": {
   "display_name": "Python 3 (ipykernel)",
   "language": "python",
   "name": "python3"
  },
  "language_info": {
   "codemirror_mode": {
    "name": "ipython",
    "version": 3
   },
   "file_extension": ".py",
   "mimetype": "text/x-python",
   "name": "python",
   "nbconvert_exporter": "python",
   "pygments_lexer": "ipython3",
   "version": "3.11.6"
  }
 },
 "nbformat": 4,
 "nbformat_minor": 5
}
