{
 "cells": [
  {
   "cell_type": "code",
   "execution_count": 30,
   "id": "169c772a-f3b0-456e-a4ef-cd453044230d",
   "metadata": {},
   "outputs": [],
   "source": [
    "from datasets import load_dataset, DatasetDict\n",
    "from transformers import AutoTokenizer\n",
    "\n",
    "import torch\n",
    "from torch.utils.data import DataLoader"
   ]
  },
  {
   "cell_type": "code",
   "execution_count": 6,
   "id": "665c84ac-4f6e-482a-8aca-07ddbfbe89c2",
   "metadata": {},
   "outputs": [
    {
     "name": "stdout",
     "output_type": "stream",
     "text": [
      "{'text': Value('string'), 'label': Value('int64')}\n"
     ]
    }
   ],
   "source": [
    "# Loads dataset and splits to train, test & validation\n",
    "ds = load_dataset(\"mrm8488/fake-news\")\n",
    "\n",
    "print(ds[\"train\"].features)\n",
    "\n",
    "# Get test and train data\n",
    "ds_tmp0 = ds[\"train\"].train_test_split(test_size=0.2, seed=42)\n",
    "\n",
    "# Get validation data\n",
    "ds_tmp1 = ds[\"train\"].train_test_split(test_size=0.1, seed=42)\n",
    "\n",
    "dsd = DatasetDict({\n",
    "    \"train\": ds_tmp1[\"train\"],\n",
    "    \"validation\": ds_tmp1[\"test\"],\n",
    "    \"test\": ds_tmp0[\"test\"]\n",
    "})"
   ]
  },
  {
   "cell_type": "code",
   "execution_count": 8,
   "id": "c9a2b243-0908-483b-9f84-dac90d7ba384",
   "metadata": {},
   "outputs": [],
   "source": [
    "num_class = 2\n",
    "\n",
    "# Tokenzinzer prozess\n",
    "iter_train = iter(dsd[\"train\"])\n",
    "text = next(iter_train)[\"text\"]\n",
    "\n",
    "tok = AutoTokenizer.from_pretrained(\"distilbert-base-uncased\")\n",
    "tokens = tok.tokenize(text)               # reine Tokens (Subwords)\n",
    "ids = tok.convert_tokens_to_ids(tokens)   # IDs aus dem Vocabulary\n",
    "back = tok.convert_ids_to_tokens(ids)     # zurück in Tokens\n",
    "decoded = tok.decode(ids)                 # zurück in String\n",
    "\n",
    "#tokenizer = get_tokenizer(\"basic_english\")\n",
    "\n",
    "#print(next(iter_train))"
   ]
  },
  {
   "cell_type": "code",
   "execution_count": 10,
   "id": "39b8d74b-c1ef-447e-a615-0b092544acdd",
   "metadata": {},
   "outputs": [],
   "source": [
    "#print(\"Tokens:\", tokens)\n",
    "#print(\"IDs:\", ids)\n",
    "#print(\"Zurück:\", back)\n",
    "#print(\"Decoded:\", decoded)"
   ]
  },
  {
   "cell_type": "code",
   "execution_count": 17,
   "id": "b00c5cbc-d3c8-4ed2-8b70-ad330e81f928",
   "metadata": {},
   "outputs": [
    {
     "name": "stdout",
     "output_type": "stream",
     "text": [
      "40408\n",
      "8980\n",
      "4490\n",
      "44898\n"
     ]
    }
   ],
   "source": [
    "len_trainSet = len(dsd[\"train\"])\n",
    "len_testSet = len(dsd[\"test\"])\n",
    "len_validSet = len(dsd[\"validation\"])\n",
    "len_all = len(ds[\"train\"])\n",
    "\n",
    "print(len_trainSet)\n",
    "print(len_testSet)\n",
    "print(len_validSet)\n",
    "print(len_all)"
   ]
  },
  {
   "cell_type": "code",
   "execution_count": 23,
   "id": "a8e968d7-7055-432c-922e-49f6be3d60a5",
   "metadata": {},
   "outputs": [],
   "source": [
    "device = torch.device(\"cuda\" if torch.cuda.is_available() else \"cpu\")"
   ]
  },
  {
   "cell_type": "code",
   "execution_count": 26,
   "id": "4bfccf4f-29d9-43ce-8f74-34dca26b40d8",
   "metadata": {},
   "outputs": [],
   "source": [
    "def text_pipeline(x):\n",
    "    return tok.tokenize(x)"
   ]
  },
  {
   "cell_type": "code",
   "execution_count": 27,
   "id": "1ea165ac-2628-4a61-9307-dec1ce445b5c",
   "metadata": {},
   "outputs": [],
   "source": [
    "def label_pipeline(x):\n",
    "    return x"
   ]
  },
  {
   "cell_type": "code",
   "execution_count": 36,
   "id": "5e27516b-dd1f-4876-a441-47c91fb61d13",
   "metadata": {},
   "outputs": [],
   "source": [
    "def collate_batch(batch):\n",
    "\n",
    "    for item in batch:\n",
    "        label, text = item[\"label\"], item[\"text\"]"
   ]
  },
  {
   "cell_type": "code",
   "execution_count": null,
   "id": "5e810069-2ec9-4022-90e6-9e076f0b5a51",
   "metadata": {},
   "outputs": [],
   "source": []
  }
 ],
 "metadata": {
  "kernelspec": {
   "display_name": "Python 3 (ipykernel)",
   "language": "python",
   "name": "python3"
  },
  "language_info": {
   "codemirror_mode": {
    "name": "ipython",
    "version": 3
   },
   "file_extension": ".py",
   "mimetype": "text/x-python",
   "name": "python",
   "nbconvert_exporter": "python",
   "pygments_lexer": "ipython3",
   "version": "3.11.6"
  }
 },
 "nbformat": 4,
 "nbformat_minor": 5
}
